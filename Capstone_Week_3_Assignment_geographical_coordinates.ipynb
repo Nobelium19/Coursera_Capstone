{
  "nbformat": 4,
  "nbformat_minor": 0,
  "metadata": {
    "colab": {
      "name": "Capstone_Week_3_Assignment_geographical_coordinates.ipynb",
      "provenance": [],
      "collapsed_sections": []
    },
    "kernelspec": {
      "name": "python3",
      "display_name": "Python 3"
    }
  },
  "cells": [
    {
      "cell_type": "markdown",
      "metadata": {
        "id": "LIHnIjClWulj",
        "colab_type": "text"
      },
      "source": [
        "## Week 3 Assignment: Segmenting and Clustering Neighborhoods in Toronto\n",
        "\n"
      ]
    },
    {
      "cell_type": "markdown",
      "metadata": {
        "id": "imTyf8c4XSdn",
        "colab_type": "text"
      },
      "source": [
        "#Obtain Toronto data and clean it up\n",
        "Scrape the following Wikipedia page, https://en.wikipedia.org/wiki/List_of_postal_codes_of_Canada:_M, in order to obtain the data that is in the table of postal codes and to transform the data into a pandas dataframe."
      ]
    },
    {
      "cell_type": "markdown",
      "metadata": {
        "id": "fv6qdk7LXKQ6",
        "colab_type": "text"
      },
      "source": [
        "Download all the dependencies."
      ]
    },
    {
      "cell_type": "code",
      "metadata": {
        "id": "q5vLxQouZLOV",
        "colab_type": "code",
        "colab": {}
      },
      "source": [
        "import pandas as pd"
      ],
      "execution_count": 0,
      "outputs": []
    },
    {
      "cell_type": "code",
      "metadata": {
        "id": "xtx9yg42XZe_",
        "colab_type": "code",
        "outputId": "d4c66b9e-e991-4ab5-fd69-88bb0581ca42",
        "colab": {
          "base_uri": "https://localhost:8080/",
          "height": 425
        }
      },
      "source": [
        "df_webpage = pd.read_html('https://en.wikipedia.org/wiki/List_of_postal_codes_of_Canada:_M')\n",
        "df_webpage"
      ],
      "execution_count": 2,
      "outputs": [
        {
          "output_type": "execute_result",
          "data": {
            "text/plain": [
              "[    Postcode           Borough          Neighbourhood\n",
              " 0        M1A      Not assigned           Not assigned\n",
              " 1        M2A      Not assigned           Not assigned\n",
              " 2        M3A        North York              Parkwoods\n",
              " 3        M4A        North York       Victoria Village\n",
              " 4        M5A  Downtown Toronto           Harbourfront\n",
              " ..       ...               ...                    ...\n",
              " 282      M8Z         Etobicoke              Mimico NW\n",
              " 283      M8Z         Etobicoke     The Queensway West\n",
              " 284      M8Z         Etobicoke  Royal York South West\n",
              " 285      M8Z         Etobicoke         South of Bloor\n",
              " 286      M9Z      Not assigned           Not assigned\n",
              " \n",
              " [287 rows x 3 columns],\n",
              "                                                   0   ...   17\n",
              " 0                                                NaN  ...  NaN\n",
              " 1  NL NS PE NB QC ON MB SK AB BC NU/NT YT A B C E...  ...  NaN\n",
              " 2                                                 NL  ...   YT\n",
              " 3                                                  A  ...    Y\n",
              " \n",
              " [4 rows x 18 columns],\n",
              "    0   1   2   3   4   5   6   7   8   9   10  11  12  13  14  15     16  17\n",
              " 0  NL  NS  PE  NB  QC  QC  QC  ON  ON  ON  ON  ON  MB  SK  AB  BC  NU/NT  YT\n",
              " 1   A   B   C   E   G   H   J   K   L   M   N   P   R   S   T   V      X   Y]"
            ]
          },
          "metadata": {
            "tags": []
          },
          "execution_count": 2
        }
      ]
    },
    {
      "cell_type": "markdown",
      "metadata": {
        "id": "ezxcZovZcTjB",
        "colab_type": "text"
      },
      "source": [
        "There are two tables in the html page. Only the first one is used."
      ]
    },
    {
      "cell_type": "code",
      "metadata": {
        "id": "URkIMMR2cD9s",
        "colab_type": "code",
        "outputId": "a542b0c4-540b-4ce7-9dc8-1f1bb53a515b",
        "colab": {
          "base_uri": "https://localhost:8080/",
          "height": 419
        }
      },
      "source": [
        "df_toronto = df_webpage[0]\n",
        "df_toronto"
      ],
      "execution_count": 3,
      "outputs": [
        {
          "output_type": "execute_result",
          "data": {
            "text/html": [
              "<div>\n",
              "<style scoped>\n",
              "    .dataframe tbody tr th:only-of-type {\n",
              "        vertical-align: middle;\n",
              "    }\n",
              "\n",
              "    .dataframe tbody tr th {\n",
              "        vertical-align: top;\n",
              "    }\n",
              "\n",
              "    .dataframe thead th {\n",
              "        text-align: right;\n",
              "    }\n",
              "</style>\n",
              "<table border=\"1\" class=\"dataframe\">\n",
              "  <thead>\n",
              "    <tr style=\"text-align: right;\">\n",
              "      <th></th>\n",
              "      <th>Postcode</th>\n",
              "      <th>Borough</th>\n",
              "      <th>Neighbourhood</th>\n",
              "    </tr>\n",
              "  </thead>\n",
              "  <tbody>\n",
              "    <tr>\n",
              "      <th>0</th>\n",
              "      <td>M1A</td>\n",
              "      <td>Not assigned</td>\n",
              "      <td>Not assigned</td>\n",
              "    </tr>\n",
              "    <tr>\n",
              "      <th>1</th>\n",
              "      <td>M2A</td>\n",
              "      <td>Not assigned</td>\n",
              "      <td>Not assigned</td>\n",
              "    </tr>\n",
              "    <tr>\n",
              "      <th>2</th>\n",
              "      <td>M3A</td>\n",
              "      <td>North York</td>\n",
              "      <td>Parkwoods</td>\n",
              "    </tr>\n",
              "    <tr>\n",
              "      <th>3</th>\n",
              "      <td>M4A</td>\n",
              "      <td>North York</td>\n",
              "      <td>Victoria Village</td>\n",
              "    </tr>\n",
              "    <tr>\n",
              "      <th>4</th>\n",
              "      <td>M5A</td>\n",
              "      <td>Downtown Toronto</td>\n",
              "      <td>Harbourfront</td>\n",
              "    </tr>\n",
              "    <tr>\n",
              "      <th>...</th>\n",
              "      <td>...</td>\n",
              "      <td>...</td>\n",
              "      <td>...</td>\n",
              "    </tr>\n",
              "    <tr>\n",
              "      <th>282</th>\n",
              "      <td>M8Z</td>\n",
              "      <td>Etobicoke</td>\n",
              "      <td>Mimico NW</td>\n",
              "    </tr>\n",
              "    <tr>\n",
              "      <th>283</th>\n",
              "      <td>M8Z</td>\n",
              "      <td>Etobicoke</td>\n",
              "      <td>The Queensway West</td>\n",
              "    </tr>\n",
              "    <tr>\n",
              "      <th>284</th>\n",
              "      <td>M8Z</td>\n",
              "      <td>Etobicoke</td>\n",
              "      <td>Royal York South West</td>\n",
              "    </tr>\n",
              "    <tr>\n",
              "      <th>285</th>\n",
              "      <td>M8Z</td>\n",
              "      <td>Etobicoke</td>\n",
              "      <td>South of Bloor</td>\n",
              "    </tr>\n",
              "    <tr>\n",
              "      <th>286</th>\n",
              "      <td>M9Z</td>\n",
              "      <td>Not assigned</td>\n",
              "      <td>Not assigned</td>\n",
              "    </tr>\n",
              "  </tbody>\n",
              "</table>\n",
              "<p>287 rows × 3 columns</p>\n",
              "</div>"
            ],
            "text/plain": [
              "    Postcode           Borough          Neighbourhood\n",
              "0        M1A      Not assigned           Not assigned\n",
              "1        M2A      Not assigned           Not assigned\n",
              "2        M3A        North York              Parkwoods\n",
              "3        M4A        North York       Victoria Village\n",
              "4        M5A  Downtown Toronto           Harbourfront\n",
              "..       ...               ...                    ...\n",
              "282      M8Z         Etobicoke              Mimico NW\n",
              "283      M8Z         Etobicoke     The Queensway West\n",
              "284      M8Z         Etobicoke  Royal York South West\n",
              "285      M8Z         Etobicoke         South of Bloor\n",
              "286      M9Z      Not assigned           Not assigned\n",
              "\n",
              "[287 rows x 3 columns]"
            ]
          },
          "metadata": {
            "tags": []
          },
          "execution_count": 3
        }
      ]
    },
    {
      "cell_type": "markdown",
      "metadata": {
        "id": "AZ7GneyJliq5",
        "colab_type": "text"
      },
      "source": [
        "Ignore cells with a borough that is Not assigned."
      ]
    },
    {
      "cell_type": "code",
      "metadata": {
        "colab_type": "code",
        "id": "MBc2BZTojCXM",
        "outputId": "38f55717-3bb1-4beb-e49b-84a93e0ca8d5",
        "colab": {
          "base_uri": "https://localhost:8080/",
          "height": 419
        }
      },
      "source": [
        "df_toronto = df_toronto[df_toronto.Borough != 'Not assigned']\n",
        "df_toronto"
      ],
      "execution_count": 4,
      "outputs": [
        {
          "output_type": "execute_result",
          "data": {
            "text/html": [
              "<div>\n",
              "<style scoped>\n",
              "    .dataframe tbody tr th:only-of-type {\n",
              "        vertical-align: middle;\n",
              "    }\n",
              "\n",
              "    .dataframe tbody tr th {\n",
              "        vertical-align: top;\n",
              "    }\n",
              "\n",
              "    .dataframe thead th {\n",
              "        text-align: right;\n",
              "    }\n",
              "</style>\n",
              "<table border=\"1\" class=\"dataframe\">\n",
              "  <thead>\n",
              "    <tr style=\"text-align: right;\">\n",
              "      <th></th>\n",
              "      <th>Postcode</th>\n",
              "      <th>Borough</th>\n",
              "      <th>Neighbourhood</th>\n",
              "    </tr>\n",
              "  </thead>\n",
              "  <tbody>\n",
              "    <tr>\n",
              "      <th>2</th>\n",
              "      <td>M3A</td>\n",
              "      <td>North York</td>\n",
              "      <td>Parkwoods</td>\n",
              "    </tr>\n",
              "    <tr>\n",
              "      <th>3</th>\n",
              "      <td>M4A</td>\n",
              "      <td>North York</td>\n",
              "      <td>Victoria Village</td>\n",
              "    </tr>\n",
              "    <tr>\n",
              "      <th>4</th>\n",
              "      <td>M5A</td>\n",
              "      <td>Downtown Toronto</td>\n",
              "      <td>Harbourfront</td>\n",
              "    </tr>\n",
              "    <tr>\n",
              "      <th>5</th>\n",
              "      <td>M6A</td>\n",
              "      <td>North York</td>\n",
              "      <td>Lawrence Heights</td>\n",
              "    </tr>\n",
              "    <tr>\n",
              "      <th>6</th>\n",
              "      <td>M6A</td>\n",
              "      <td>North York</td>\n",
              "      <td>Lawrence Manor</td>\n",
              "    </tr>\n",
              "    <tr>\n",
              "      <th>...</th>\n",
              "      <td>...</td>\n",
              "      <td>...</td>\n",
              "      <td>...</td>\n",
              "    </tr>\n",
              "    <tr>\n",
              "      <th>281</th>\n",
              "      <td>M8Z</td>\n",
              "      <td>Etobicoke</td>\n",
              "      <td>Kingsway Park South West</td>\n",
              "    </tr>\n",
              "    <tr>\n",
              "      <th>282</th>\n",
              "      <td>M8Z</td>\n",
              "      <td>Etobicoke</td>\n",
              "      <td>Mimico NW</td>\n",
              "    </tr>\n",
              "    <tr>\n",
              "      <th>283</th>\n",
              "      <td>M8Z</td>\n",
              "      <td>Etobicoke</td>\n",
              "      <td>The Queensway West</td>\n",
              "    </tr>\n",
              "    <tr>\n",
              "      <th>284</th>\n",
              "      <td>M8Z</td>\n",
              "      <td>Etobicoke</td>\n",
              "      <td>Royal York South West</td>\n",
              "    </tr>\n",
              "    <tr>\n",
              "      <th>285</th>\n",
              "      <td>M8Z</td>\n",
              "      <td>Etobicoke</td>\n",
              "      <td>South of Bloor</td>\n",
              "    </tr>\n",
              "  </tbody>\n",
              "</table>\n",
              "<p>210 rows × 3 columns</p>\n",
              "</div>"
            ],
            "text/plain": [
              "    Postcode           Borough             Neighbourhood\n",
              "2        M3A        North York                 Parkwoods\n",
              "3        M4A        North York          Victoria Village\n",
              "4        M5A  Downtown Toronto              Harbourfront\n",
              "5        M6A        North York          Lawrence Heights\n",
              "6        M6A        North York            Lawrence Manor\n",
              "..       ...               ...                       ...\n",
              "281      M8Z         Etobicoke  Kingsway Park South West\n",
              "282      M8Z         Etobicoke                 Mimico NW\n",
              "283      M8Z         Etobicoke        The Queensway West\n",
              "284      M8Z         Etobicoke     Royal York South West\n",
              "285      M8Z         Etobicoke            South of Bloor\n",
              "\n",
              "[210 rows x 3 columns]"
            ]
          },
          "metadata": {
            "tags": []
          },
          "execution_count": 4
        }
      ]
    },
    {
      "cell_type": "markdown",
      "metadata": {
        "id": "OvwV4-8XRCOd",
        "colab_type": "text"
      },
      "source": [
        "Assume a cell has a borough but a not assigned neighborhood, then the neighborhood will be the same as the borough."
      ]
    },
    {
      "cell_type": "code",
      "metadata": {
        "id": "kiBD3VD3TKJO",
        "colab_type": "code",
        "outputId": "e1b2c903-0efa-4b8e-f60c-b2dba957af38",
        "colab": {
          "base_uri": "https://localhost:8080/",
          "height": 68
        }
      },
      "source": [
        "for index, row in df_toronto.iterrows():\n",
        "    if row['Neighbourhood'] == 'Not assigned':\n",
        "       print(row['Borough'],row['Neighbourhood'])\n",
        "       row['Neighbourhood'] = row['Borough']\n",
        "       print('Assign Borough to Neighbourhood')\n",
        "       print(row['Borough'],row['Neighbourhood'])"
      ],
      "execution_count": 5,
      "outputs": [
        {
          "output_type": "stream",
          "text": [
            "Queen's Park Not assigned\n",
            "Assign Borough to Neighbourhood\n",
            "Queen's Park Queen's Park\n"
          ],
          "name": "stdout"
        }
      ]
    },
    {
      "cell_type": "markdown",
      "metadata": {
        "id": "bnjQDVRSPXPI",
        "colab_type": "text"
      },
      "source": [
        "Group neighbourhoods into their corresponding postcodes."
      ]
    },
    {
      "cell_type": "code",
      "metadata": {
        "id": "IUmqm7gbM52K",
        "colab_type": "code",
        "outputId": "ed3ac9c3-30c6-4e4a-ffdc-34b206e7f3de",
        "colab": {
          "base_uri": "https://localhost:8080/",
          "height": 419
        }
      },
      "source": [
        "df_postcode = df_toronto.groupby(['Postcode','Borough'])['Neighbourhood'].apply(', '.join).reset_index()\n",
        "df_postcode"
      ],
      "execution_count": 6,
      "outputs": [
        {
          "output_type": "execute_result",
          "data": {
            "text/html": [
              "<div>\n",
              "<style scoped>\n",
              "    .dataframe tbody tr th:only-of-type {\n",
              "        vertical-align: middle;\n",
              "    }\n",
              "\n",
              "    .dataframe tbody tr th {\n",
              "        vertical-align: top;\n",
              "    }\n",
              "\n",
              "    .dataframe thead th {\n",
              "        text-align: right;\n",
              "    }\n",
              "</style>\n",
              "<table border=\"1\" class=\"dataframe\">\n",
              "  <thead>\n",
              "    <tr style=\"text-align: right;\">\n",
              "      <th></th>\n",
              "      <th>Postcode</th>\n",
              "      <th>Borough</th>\n",
              "      <th>Neighbourhood</th>\n",
              "    </tr>\n",
              "  </thead>\n",
              "  <tbody>\n",
              "    <tr>\n",
              "      <th>0</th>\n",
              "      <td>M1B</td>\n",
              "      <td>Scarborough</td>\n",
              "      <td>Rouge, Malvern</td>\n",
              "    </tr>\n",
              "    <tr>\n",
              "      <th>1</th>\n",
              "      <td>M1C</td>\n",
              "      <td>Scarborough</td>\n",
              "      <td>Highland Creek, Rouge Hill, Port Union</td>\n",
              "    </tr>\n",
              "    <tr>\n",
              "      <th>2</th>\n",
              "      <td>M1E</td>\n",
              "      <td>Scarborough</td>\n",
              "      <td>Guildwood, Morningside, West Hill</td>\n",
              "    </tr>\n",
              "    <tr>\n",
              "      <th>3</th>\n",
              "      <td>M1G</td>\n",
              "      <td>Scarborough</td>\n",
              "      <td>Woburn</td>\n",
              "    </tr>\n",
              "    <tr>\n",
              "      <th>4</th>\n",
              "      <td>M1H</td>\n",
              "      <td>Scarborough</td>\n",
              "      <td>Cedarbrae</td>\n",
              "    </tr>\n",
              "    <tr>\n",
              "      <th>...</th>\n",
              "      <td>...</td>\n",
              "      <td>...</td>\n",
              "      <td>...</td>\n",
              "    </tr>\n",
              "    <tr>\n",
              "      <th>98</th>\n",
              "      <td>M9N</td>\n",
              "      <td>York</td>\n",
              "      <td>Weston</td>\n",
              "    </tr>\n",
              "    <tr>\n",
              "      <th>99</th>\n",
              "      <td>M9P</td>\n",
              "      <td>Etobicoke</td>\n",
              "      <td>Westmount</td>\n",
              "    </tr>\n",
              "    <tr>\n",
              "      <th>100</th>\n",
              "      <td>M9R</td>\n",
              "      <td>Etobicoke</td>\n",
              "      <td>Kingsview Village, Martin Grove Gardens, Richv...</td>\n",
              "    </tr>\n",
              "    <tr>\n",
              "      <th>101</th>\n",
              "      <td>M9V</td>\n",
              "      <td>Etobicoke</td>\n",
              "      <td>Albion Gardens, Beaumond Heights, Humbergate, ...</td>\n",
              "    </tr>\n",
              "    <tr>\n",
              "      <th>102</th>\n",
              "      <td>M9W</td>\n",
              "      <td>Etobicoke</td>\n",
              "      <td>Northwest</td>\n",
              "    </tr>\n",
              "  </tbody>\n",
              "</table>\n",
              "<p>103 rows × 3 columns</p>\n",
              "</div>"
            ],
            "text/plain": [
              "    Postcode      Borough                                      Neighbourhood\n",
              "0        M1B  Scarborough                                     Rouge, Malvern\n",
              "1        M1C  Scarborough             Highland Creek, Rouge Hill, Port Union\n",
              "2        M1E  Scarborough                  Guildwood, Morningside, West Hill\n",
              "3        M1G  Scarborough                                             Woburn\n",
              "4        M1H  Scarborough                                          Cedarbrae\n",
              "..       ...          ...                                                ...\n",
              "98       M9N         York                                             Weston\n",
              "99       M9P    Etobicoke                                          Westmount\n",
              "100      M9R    Etobicoke  Kingsview Village, Martin Grove Gardens, Richv...\n",
              "101      M9V    Etobicoke  Albion Gardens, Beaumond Heights, Humbergate, ...\n",
              "102      M9W    Etobicoke                                          Northwest\n",
              "\n",
              "[103 rows x 3 columns]"
            ]
          },
          "metadata": {
            "tags": []
          },
          "execution_count": 6
        }
      ]
    },
    {
      "cell_type": "code",
      "metadata": {
        "id": "weZpwE_sQC1f",
        "colab_type": "code",
        "outputId": "121216a0-6e7e-4565-d46d-7e11205a3164",
        "colab": {
          "base_uri": "https://localhost:8080/",
          "height": 34
        }
      },
      "source": [
        "print('There are {} rows in the dataframe.'.format(df_postcode.shape[0]))"
      ],
      "execution_count": 7,
      "outputs": [
        {
          "output_type": "stream",
          "text": [
            "There are 103 rows in the dataframe.\n"
          ],
          "name": "stdout"
        }
      ]
    },
    {
      "cell_type": "markdown",
      "metadata": {
        "id": "fEFG8oEpvyNX",
        "colab_type": "text"
      },
      "source": [
        "#Download geographical coordinates data"
      ]
    },
    {
      "cell_type": "code",
      "metadata": {
        "id": "CgmmPUsH8TJf",
        "colab_type": "code",
        "colab": {
          "base_uri": "https://localhost:8080/",
          "height": 615
        },
        "outputId": "b26eab28-1903-4d24-a1ec-5737c3887174"
      },
      "source": [
        "!wget -O Geospatial_Coordinates.csv http://cocl.us/Geospatial_data"
      ],
      "execution_count": 8,
      "outputs": [
        {
          "output_type": "stream",
          "text": [
            "--2019-12-20 14:25:58--  http://cocl.us/Geospatial_data\n",
            "Resolving cocl.us (cocl.us)... 169.48.113.194\n",
            "Connecting to cocl.us (cocl.us)|169.48.113.194|:80... connected.\n",
            "HTTP request sent, awaiting response... 301 Moved Permanently\n",
            "Location: https://cocl.us/Geospatial_data [following]\n",
            "--2019-12-20 14:25:58--  https://cocl.us/Geospatial_data\n",
            "Connecting to cocl.us (cocl.us)|169.48.113.194|:443... connected.\n",
            "HTTP request sent, awaiting response... 301 Moved Permanently\n",
            "Location: https://ibm.box.com/shared/static/9afzr83pps4pwf2smjjcf1y5mvgb18rr.csv [following]\n",
            "--2019-12-20 14:26:00--  https://ibm.box.com/shared/static/9afzr83pps4pwf2smjjcf1y5mvgb18rr.csv\n",
            "Resolving ibm.box.com (ibm.box.com)... 107.152.26.197, 107.152.27.197\n",
            "Connecting to ibm.box.com (ibm.box.com)|107.152.26.197|:443... connected.\n",
            "HTTP request sent, awaiting response... 301 Moved Permanently\n",
            "Location: /public/static/9afzr83pps4pwf2smjjcf1y5mvgb18rr.csv [following]\n",
            "--2019-12-20 14:26:01--  https://ibm.box.com/public/static/9afzr83pps4pwf2smjjcf1y5mvgb18rr.csv\n",
            "Reusing existing connection to ibm.box.com:443.\n",
            "HTTP request sent, awaiting response... 301 Moved Permanently\n",
            "Location: https://ibm.ent.box.com/public/static/9afzr83pps4pwf2smjjcf1y5mvgb18rr.csv [following]\n",
            "--2019-12-20 14:26:01--  https://ibm.ent.box.com/public/static/9afzr83pps4pwf2smjjcf1y5mvgb18rr.csv\n",
            "Resolving ibm.ent.box.com (ibm.ent.box.com)... 107.152.27.211, 107.152.26.211\n",
            "Connecting to ibm.ent.box.com (ibm.ent.box.com)|107.152.27.211|:443... connected.\n",
            "HTTP request sent, awaiting response... 302 Found\n",
            "Location: https://public.boxcloud.com/d/1/b1!ByqXCGqzghVXDRWZpI09AaoVQCaFITgGi3iED-7mS6zYNT5I3apQ7maND4BDGtFtoAiBpHixD9dk_30fbitADBMaldT-hkP9e7V8JOKLzCZZ0303IVqMfoSzTyxPFubUNLFnbDJMAQ9uBDAN8AvOOsOX-cvgf0J0-_xZwKNTkbJnJqSC5OT39KZoi2P11t6VTy9U4QVPHxwFOLnA4pb1V5up2Ers86TRbAW5HM6gB80fBKJZqQxFxmv62KocGKgQk98whCL616XYHBDkmIrwOGTpcjYlbJRSeFQS2M6CBzcR09yfRuYa4-OGd1dejdGRe608pT86Lr6s_U7MF25-6Ld57jlEhawecALQeaz7QqvNB4KqhI7MKbo7p0Eq4NywRMxv9XENQmgYltkAQ1NlbW7JfMqestOQmWdDX2OX1dyd0QQweoYONcGo6vpVjkIvPug_rXyqkLiSBMRyyU81GUsySDSMZDJPJXFNIB8mtYY363madBb1yw3XESPZOv6pjWoloikiZ-t3XE0ZPR0RXS350EqeCt1eSyjkJ12CuFAxL_zipIbe9BVli-pAO3eyi1ZonNa8yibN9dGpJSyjHpNhUN-sk3XQHAJ1V6HUlWPv6BILC2fNxsWxsGMVFqR1gyuoL21VpPHU4A1NlnhW7yVIznkqzD24LYS9ChMwt08w9OCTRvewmaW2jD99UzR_QL5wY3ryEpJRWhMqLUuajWaugSF1aviaQXqAwljm_kAhLvQDcag1MkeuWtOfrCf1yUYqM3JY8nJCf6IiXGiucRr16RFIP5Tt1m9bm3WLl4V28yOGc4pJTnUwglc8u9xZZsegSznCXCGW7OzTOsIqQ4WILa4rZN1q_0hLkoz8xz6S4YwkcJMwIH-d2nEg7VoNVZMnGAiIMZHFQQFkPa-HwgqDD9h_Fx00Il-SR4evNh_PhIireLdMOiFm-WLnqp_wOy7f7ahJY8TQslTgLZnbushMsSa-s80-jVkUBmQxz7XHlswhvVLDPo6BEXHH7bGmQMPG8wGKrGTOJ-JbMjhZO0p4xcCHJZ0BFDDg6a3ihtX0XpQ2dY5NopsPceHFS0RNsxymChDOu0IdPnNR9Ut76JvVQRLCNHgvC3qnJhhgPzfI-T_Dpts8QQ3DslPQvW-Vu7PbYEc2yaiH-oShpFUWLl8qGbThmN6VNGmQb976FZ4wPeMRwreICiyyIJvGbjotJYRHQChKxnqS2wmcP7t7jzIe9ppIMyeTa8vnAAExkfe2J3A_Q994f035bIZoxkseGCRNa6a70K47KROqhDJZDl4IgPTcvDABG50U1bYd9990Cqy8FhZIsna1O5M1m5jhhtVs-OSITq_hyOD5_ldnn-lFxFyY8jkFFIhceSnL6KMk0O79V7G_54Q5irzk/download [following]\n",
            "--2019-12-20 14:26:01--  https://public.boxcloud.com/d/1/b1!ByqXCGqzghVXDRWZpI09AaoVQCaFITgGi3iED-7mS6zYNT5I3apQ7maND4BDGtFtoAiBpHixD9dk_30fbitADBMaldT-hkP9e7V8JOKLzCZZ0303IVqMfoSzTyxPFubUNLFnbDJMAQ9uBDAN8AvOOsOX-cvgf0J0-_xZwKNTkbJnJqSC5OT39KZoi2P11t6VTy9U4QVPHxwFOLnA4pb1V5up2Ers86TRbAW5HM6gB80fBKJZqQxFxmv62KocGKgQk98whCL616XYHBDkmIrwOGTpcjYlbJRSeFQS2M6CBzcR09yfRuYa4-OGd1dejdGRe608pT86Lr6s_U7MF25-6Ld57jlEhawecALQeaz7QqvNB4KqhI7MKbo7p0Eq4NywRMxv9XENQmgYltkAQ1NlbW7JfMqestOQmWdDX2OX1dyd0QQweoYONcGo6vpVjkIvPug_rXyqkLiSBMRyyU81GUsySDSMZDJPJXFNIB8mtYY363madBb1yw3XESPZOv6pjWoloikiZ-t3XE0ZPR0RXS350EqeCt1eSyjkJ12CuFAxL_zipIbe9BVli-pAO3eyi1ZonNa8yibN9dGpJSyjHpNhUN-sk3XQHAJ1V6HUlWPv6BILC2fNxsWxsGMVFqR1gyuoL21VpPHU4A1NlnhW7yVIznkqzD24LYS9ChMwt08w9OCTRvewmaW2jD99UzR_QL5wY3ryEpJRWhMqLUuajWaugSF1aviaQXqAwljm_kAhLvQDcag1MkeuWtOfrCf1yUYqM3JY8nJCf6IiXGiucRr16RFIP5Tt1m9bm3WLl4V28yOGc4pJTnUwglc8u9xZZsegSznCXCGW7OzTOsIqQ4WILa4rZN1q_0hLkoz8xz6S4YwkcJMwIH-d2nEg7VoNVZMnGAiIMZHFQQFkPa-HwgqDD9h_Fx00Il-SR4evNh_PhIireLdMOiFm-WLnqp_wOy7f7ahJY8TQslTgLZnbushMsSa-s80-jVkUBmQxz7XHlswhvVLDPo6BEXHH7bGmQMPG8wGKrGTOJ-JbMjhZO0p4xcCHJZ0BFDDg6a3ihtX0XpQ2dY5NopsPceHFS0RNsxymChDOu0IdPnNR9Ut76JvVQRLCNHgvC3qnJhhgPzfI-T_Dpts8QQ3DslPQvW-Vu7PbYEc2yaiH-oShpFUWLl8qGbThmN6VNGmQb976FZ4wPeMRwreICiyyIJvGbjotJYRHQChKxnqS2wmcP7t7jzIe9ppIMyeTa8vnAAExkfe2J3A_Q994f035bIZoxkseGCRNa6a70K47KROqhDJZDl4IgPTcvDABG50U1bYd9990Cqy8FhZIsna1O5M1m5jhhtVs-OSITq_hyOD5_ldnn-lFxFyY8jkFFIhceSnL6KMk0O79V7G_54Q5irzk/download\n",
            "Resolving public.boxcloud.com (public.boxcloud.com)... 107.152.24.200\n",
            "Connecting to public.boxcloud.com (public.boxcloud.com)|107.152.24.200|:443... connected.\n",
            "HTTP request sent, awaiting response... 200 OK\n",
            "Length: 2891 (2.8K) [text/csv]\n",
            "Saving to: ‘Geospatial_Coordinates.csv’\n",
            "\n",
            "Geospatial_Coordina 100%[===================>]   2.82K  --.-KB/s    in 0s      \n",
            "\n",
            "2019-12-20 14:26:02 (539 MB/s) - ‘Geospatial_Coordinates.csv’ saved [2891/2891]\n",
            "\n"
          ],
          "name": "stdout"
        }
      ]
    },
    {
      "cell_type": "code",
      "metadata": {
        "id": "ckujg3K6t1SU",
        "colab_type": "code",
        "colab": {
          "base_uri": "https://localhost:8080/",
          "height": 204
        },
        "outputId": "650488f7-49d5-4d8c-d4e6-1139f7c32a0b"
      },
      "source": [
        "coord_df = pd.read_csv('Geospatial_Coordinates.csv')\n",
        "coord_df.head()"
      ],
      "execution_count": 9,
      "outputs": [
        {
          "output_type": "execute_result",
          "data": {
            "text/html": [
              "<div>\n",
              "<style scoped>\n",
              "    .dataframe tbody tr th:only-of-type {\n",
              "        vertical-align: middle;\n",
              "    }\n",
              "\n",
              "    .dataframe tbody tr th {\n",
              "        vertical-align: top;\n",
              "    }\n",
              "\n",
              "    .dataframe thead th {\n",
              "        text-align: right;\n",
              "    }\n",
              "</style>\n",
              "<table border=\"1\" class=\"dataframe\">\n",
              "  <thead>\n",
              "    <tr style=\"text-align: right;\">\n",
              "      <th></th>\n",
              "      <th>Postal Code</th>\n",
              "      <th>Latitude</th>\n",
              "      <th>Longitude</th>\n",
              "    </tr>\n",
              "  </thead>\n",
              "  <tbody>\n",
              "    <tr>\n",
              "      <th>0</th>\n",
              "      <td>M1B</td>\n",
              "      <td>43.806686</td>\n",
              "      <td>-79.194353</td>\n",
              "    </tr>\n",
              "    <tr>\n",
              "      <th>1</th>\n",
              "      <td>M1C</td>\n",
              "      <td>43.784535</td>\n",
              "      <td>-79.160497</td>\n",
              "    </tr>\n",
              "    <tr>\n",
              "      <th>2</th>\n",
              "      <td>M1E</td>\n",
              "      <td>43.763573</td>\n",
              "      <td>-79.188711</td>\n",
              "    </tr>\n",
              "    <tr>\n",
              "      <th>3</th>\n",
              "      <td>M1G</td>\n",
              "      <td>43.770992</td>\n",
              "      <td>-79.216917</td>\n",
              "    </tr>\n",
              "    <tr>\n",
              "      <th>4</th>\n",
              "      <td>M1H</td>\n",
              "      <td>43.773136</td>\n",
              "      <td>-79.239476</td>\n",
              "    </tr>\n",
              "  </tbody>\n",
              "</table>\n",
              "</div>"
            ],
            "text/plain": [
              "  Postal Code   Latitude  Longitude\n",
              "0         M1B  43.806686 -79.194353\n",
              "1         M1C  43.784535 -79.160497\n",
              "2         M1E  43.763573 -79.188711\n",
              "3         M1G  43.770992 -79.216917\n",
              "4         M1H  43.773136 -79.239476"
            ]
          },
          "metadata": {
            "tags": []
          },
          "execution_count": 9
        }
      ]
    },
    {
      "cell_type": "code",
      "metadata": {
        "id": "8JafHseA1DDG",
        "colab_type": "code",
        "colab": {
          "base_uri": "https://localhost:8080/",
          "height": 204
        },
        "outputId": "f98205c1-aead-4dea-bb23-0230456adef4"
      },
      "source": [
        "merged_inner_df = pd.merge(left=df_postcode,right=coord_df, left_on='Postcode', right_on='Postal Code')\n",
        "merged_inner_df.head()"
      ],
      "execution_count": 11,
      "outputs": [
        {
          "output_type": "execute_result",
          "data": {
            "text/html": [
              "<div>\n",
              "<style scoped>\n",
              "    .dataframe tbody tr th:only-of-type {\n",
              "        vertical-align: middle;\n",
              "    }\n",
              "\n",
              "    .dataframe tbody tr th {\n",
              "        vertical-align: top;\n",
              "    }\n",
              "\n",
              "    .dataframe thead th {\n",
              "        text-align: right;\n",
              "    }\n",
              "</style>\n",
              "<table border=\"1\" class=\"dataframe\">\n",
              "  <thead>\n",
              "    <tr style=\"text-align: right;\">\n",
              "      <th></th>\n",
              "      <th>Postcode</th>\n",
              "      <th>Borough</th>\n",
              "      <th>Neighbourhood</th>\n",
              "      <th>Postal Code</th>\n",
              "      <th>Latitude</th>\n",
              "      <th>Longitude</th>\n",
              "    </tr>\n",
              "  </thead>\n",
              "  <tbody>\n",
              "    <tr>\n",
              "      <th>0</th>\n",
              "      <td>M1B</td>\n",
              "      <td>Scarborough</td>\n",
              "      <td>Rouge, Malvern</td>\n",
              "      <td>M1B</td>\n",
              "      <td>43.806686</td>\n",
              "      <td>-79.194353</td>\n",
              "    </tr>\n",
              "    <tr>\n",
              "      <th>1</th>\n",
              "      <td>M1C</td>\n",
              "      <td>Scarborough</td>\n",
              "      <td>Highland Creek, Rouge Hill, Port Union</td>\n",
              "      <td>M1C</td>\n",
              "      <td>43.784535</td>\n",
              "      <td>-79.160497</td>\n",
              "    </tr>\n",
              "    <tr>\n",
              "      <th>2</th>\n",
              "      <td>M1E</td>\n",
              "      <td>Scarborough</td>\n",
              "      <td>Guildwood, Morningside, West Hill</td>\n",
              "      <td>M1E</td>\n",
              "      <td>43.763573</td>\n",
              "      <td>-79.188711</td>\n",
              "    </tr>\n",
              "    <tr>\n",
              "      <th>3</th>\n",
              "      <td>M1G</td>\n",
              "      <td>Scarborough</td>\n",
              "      <td>Woburn</td>\n",
              "      <td>M1G</td>\n",
              "      <td>43.770992</td>\n",
              "      <td>-79.216917</td>\n",
              "    </tr>\n",
              "    <tr>\n",
              "      <th>4</th>\n",
              "      <td>M1H</td>\n",
              "      <td>Scarborough</td>\n",
              "      <td>Cedarbrae</td>\n",
              "      <td>M1H</td>\n",
              "      <td>43.773136</td>\n",
              "      <td>-79.239476</td>\n",
              "    </tr>\n",
              "  </tbody>\n",
              "</table>\n",
              "</div>"
            ],
            "text/plain": [
              "  Postcode      Borough  ...   Latitude  Longitude\n",
              "0      M1B  Scarborough  ...  43.806686 -79.194353\n",
              "1      M1C  Scarborough  ...  43.784535 -79.160497\n",
              "2      M1E  Scarborough  ...  43.763573 -79.188711\n",
              "3      M1G  Scarborough  ...  43.770992 -79.216917\n",
              "4      M1H  Scarborough  ...  43.773136 -79.239476\n",
              "\n",
              "[5 rows x 6 columns]"
            ]
          },
          "metadata": {
            "tags": []
          },
          "execution_count": 11
        }
      ]
    },
    {
      "cell_type": "code",
      "metadata": {
        "id": "GZi6WI3P2RD6",
        "colab_type": "code",
        "colab": {
          "base_uri": "https://localhost:8080/",
          "height": 34
        },
        "outputId": "cce38fd5-b021-4b70-e938-c7c77fca7cfc"
      },
      "source": [
        "merged_inner_df.shape[0]"
      ],
      "execution_count": 12,
      "outputs": [
        {
          "output_type": "execute_result",
          "data": {
            "text/plain": [
              "103"
            ]
          },
          "metadata": {
            "tags": []
          },
          "execution_count": 12
        }
      ]
    },
    {
      "cell_type": "code",
      "metadata": {
        "id": "2qb16gcR2p5P",
        "colab_type": "code",
        "colab": {
          "base_uri": "https://localhost:8080/",
          "height": 204
        },
        "outputId": "27aa6c94-76bb-4d4c-fea0-2ec1180097af"
      },
      "source": [
        "toronto_df = merged_inner_df.drop(['Postal Code'], axis=1)\n",
        "toronto_df.head()"
      ],
      "execution_count": 13,
      "outputs": [
        {
          "output_type": "execute_result",
          "data": {
            "text/html": [
              "<div>\n",
              "<style scoped>\n",
              "    .dataframe tbody tr th:only-of-type {\n",
              "        vertical-align: middle;\n",
              "    }\n",
              "\n",
              "    .dataframe tbody tr th {\n",
              "        vertical-align: top;\n",
              "    }\n",
              "\n",
              "    .dataframe thead th {\n",
              "        text-align: right;\n",
              "    }\n",
              "</style>\n",
              "<table border=\"1\" class=\"dataframe\">\n",
              "  <thead>\n",
              "    <tr style=\"text-align: right;\">\n",
              "      <th></th>\n",
              "      <th>Postcode</th>\n",
              "      <th>Borough</th>\n",
              "      <th>Neighbourhood</th>\n",
              "      <th>Latitude</th>\n",
              "      <th>Longitude</th>\n",
              "    </tr>\n",
              "  </thead>\n",
              "  <tbody>\n",
              "    <tr>\n",
              "      <th>0</th>\n",
              "      <td>M1B</td>\n",
              "      <td>Scarborough</td>\n",
              "      <td>Rouge, Malvern</td>\n",
              "      <td>43.806686</td>\n",
              "      <td>-79.194353</td>\n",
              "    </tr>\n",
              "    <tr>\n",
              "      <th>1</th>\n",
              "      <td>M1C</td>\n",
              "      <td>Scarborough</td>\n",
              "      <td>Highland Creek, Rouge Hill, Port Union</td>\n",
              "      <td>43.784535</td>\n",
              "      <td>-79.160497</td>\n",
              "    </tr>\n",
              "    <tr>\n",
              "      <th>2</th>\n",
              "      <td>M1E</td>\n",
              "      <td>Scarborough</td>\n",
              "      <td>Guildwood, Morningside, West Hill</td>\n",
              "      <td>43.763573</td>\n",
              "      <td>-79.188711</td>\n",
              "    </tr>\n",
              "    <tr>\n",
              "      <th>3</th>\n",
              "      <td>M1G</td>\n",
              "      <td>Scarborough</td>\n",
              "      <td>Woburn</td>\n",
              "      <td>43.770992</td>\n",
              "      <td>-79.216917</td>\n",
              "    </tr>\n",
              "    <tr>\n",
              "      <th>4</th>\n",
              "      <td>M1H</td>\n",
              "      <td>Scarborough</td>\n",
              "      <td>Cedarbrae</td>\n",
              "      <td>43.773136</td>\n",
              "      <td>-79.239476</td>\n",
              "    </tr>\n",
              "  </tbody>\n",
              "</table>\n",
              "</div>"
            ],
            "text/plain": [
              "  Postcode      Borough  ...   Latitude  Longitude\n",
              "0      M1B  Scarborough  ...  43.806686 -79.194353\n",
              "1      M1C  Scarborough  ...  43.784535 -79.160497\n",
              "2      M1E  Scarborough  ...  43.763573 -79.188711\n",
              "3      M1G  Scarborough  ...  43.770992 -79.216917\n",
              "4      M1H  Scarborough  ...  43.773136 -79.239476\n",
              "\n",
              "[5 rows x 5 columns]"
            ]
          },
          "metadata": {
            "tags": []
          },
          "execution_count": 13
        }
      ]
    }
  ]
}